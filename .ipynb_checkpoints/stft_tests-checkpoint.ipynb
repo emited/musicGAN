{
 "cells": [
  {
   "cell_type": "code",
   "execution_count": 1,
   "metadata": {
    "collapsed": false
   },
   "outputs": [],
   "source": [
    "import scipy, numpy as np\n",
    "from scipy.io import wavfile\n",
    "import matplotlib.pyplot as plt\n",
    "%matplotlib inline\n",
    "\n",
    "def stft(x, fftsize=1024, overlap=4):   \n",
    "    hop = fftsize / overlap\n",
    "    w = scipy.hanning(fftsize*2)[:-1] # better reconstruction with this trick +1)[:-1]  \n",
    "    print x.shape\n",
    "    return np.array([np.fft.fft(w*interp(x[i:i+fftsize])) for i in range(0, len(x)-fftsize, hop)])\n",
    "\n",
    "def istft(X, overlap=4):   \n",
    "    fftsize=(X.shape[1]-1)\n",
    "    hop = fftsize / overlap\n",
    "    w = scipy.hanning(fftsize+1)\n",
    "    print(np.fft.ifft(X[0]).shape)\n",
    "    print(w.shape)\n",
    "    x = scipy.zeros(X.shape[0]*hop)\n",
    "    wsum = scipy.zeros(X.shape[0]*hop) \n",
    "    for n,i in enumerate(range(0, len(x)-fftsize, hop)): \n",
    "        x[i:i+fftsize] += scipy.real(np.fft.ifft(X[n])) * w   # overlap-add\n",
    "        wsum[i:i+fftsize] += w ** 2.\n",
    "    pos = wsum != 0\n",
    "    x[pos] /= wsum[pos]\n",
    "    return x\n",
    "\n",
    "def interp(x):\n",
    "    x=np.array(x, dtype='float')\n",
    "    x_d = np.zeros(x.shape[0]*2-1)\n",
    "    x_m = x[:-1]\n",
    "    x_p = x[1:]\n",
    "    x_d[::2] = x\n",
    "    x_d[1::2] = (x_m+x_p)/2\n",
    "    return x_d"
   ]
  },
  {
   "cell_type": "code",
   "execution_count": 23,
   "metadata": {
    "collapsed": true
   },
   "outputs": [],
   "source": [
    "import scipy, pylab\n",
    "\n",
    "def stft(x, fs, framesz, hop):\n",
    "    framesamp = int(framesz*fs)\n",
    "    hopsamp = int(hop*fs)\n",
    "    w = scipy.hanning(framesamp)\n",
    "    X = scipy.array([scipy.fft(w*x[i:i+framesamp]) \n",
    "                     for i in range(0, len(x)-framesamp, hopsamp)])\n",
    "    return X\n",
    "\n",
    "def istft(X, fs, T, hop):\n",
    "    x = scipy.zeros(T*fs)\n",
    "    framesamp = X.shape[1]\n",
    "    hopsamp = int(hop*fs)\n",
    "    wsum = scipy.zeros(T*fs)\n",
    "    w = scipy.hanning(framesamp)\n",
    "    for n,i in enumerate(range(0, len(x)-framesamp, hopsamp)):\n",
    "        x[i:i+framesamp] += scipy.real(scipy.ifft(X[n]))\n",
    "        wsum[i:i+framesamp] += w\n",
    "    pos = wsum != 0\n",
    "    x[pos] /= wsum[pos]\n",
    "    return x"
   ]
  },
  {
   "cell_type": "code",
   "execution_count": 28,
   "metadata": {
    "collapsed": false
   },
   "outputs": [
    {
     "name": "stdout",
     "output_type": "stream",
     "text": [
      "44100 (17437696,)\n"
     ]
    }
   ],
   "source": [
    "fs, x = wavfile.read('prelude_mono.wav')\n",
    "T = float(len(x))/fs\n",
    "framesz = 0.025  # with a frame size of 50 milliseconds\n",
    "hop = 0.00125\n",
    "print fs, x.shape"
   ]
  },
  {
   "cell_type": "code",
   "execution_count": 29,
   "metadata": {
    "collapsed": false
   },
   "outputs": [],
   "source": [
    "X = stft(x, fs, framesz, hop)"
   ]
  },
  {
   "cell_type": "code",
   "execution_count": 30,
   "metadata": {
    "collapsed": false
   },
   "outputs": [
    {
     "name": "stderr",
     "output_type": "stream",
     "text": [
      "/home/emmanuel/anaconda2/lib/python2.7/site-packages/ipykernel/__main__.py:12: DeprecationWarning: using a non-integer number instead of an integer will result in an error in the future\n",
      "/home/emmanuel/anaconda2/lib/python2.7/site-packages/ipykernel/__main__.py:15: DeprecationWarning: using a non-integer number instead of an integer will result in an error in the future\n"
     ]
    },
    {
     "name": "stdout",
     "output_type": "stream",
     "text": [
      "(17437696,)\n"
     ]
    }
   ],
   "source": [
    "iX = istft(X, fs, T, hop)\n",
    "print iX.shape"
   ]
  },
  {
   "cell_type": "code",
   "execution_count": 31,
   "metadata": {
    "collapsed": true
   },
   "outputs": [],
   "source": [
    "wavfile.write('test3.wav', fs, iX)"
   ]
  }
 ],
 "metadata": {
  "kernelspec": {
   "display_name": "Python 2",
   "language": "python",
   "name": "python2"
  },
  "language_info": {
   "codemirror_mode": {
    "name": "ipython",
    "version": 2
   },
   "file_extension": ".py",
   "mimetype": "text/x-python",
   "name": "python",
   "nbconvert_exporter": "python",
   "pygments_lexer": "ipython2",
   "version": "2.7.11"
  }
 },
 "nbformat": 4,
 "nbformat_minor": 0
}
